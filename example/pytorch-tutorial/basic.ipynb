{
 "cells": [
  {
   "cell_type": "code",
   "execution_count": null,
   "id": "initial_id",
   "metadata": {
    "collapsed": true
   },
   "outputs": [],
   "source": []
  },
  {
   "cell_type": "code",
   "execution_count": 1,
   "outputs": [
    {
     "name": "stdout",
     "output_type": "stream",
     "text": [
      "Tensor Shape: torch.Size([2, 3, 4])\n"
     ]
    }
   ],
   "source": [
    "import torch\n",
    "\n",
    "# 创建一个示例 Tensor\n",
    "tensor = torch.randn(2, 3, 4)\n",
    "\n",
    "# 打印 Tensor 形状\n",
    "print(\"Tensor Shape:\", tensor.shape)\n"
   ],
   "metadata": {
    "collapsed": false,
    "ExecuteTime": {
     "end_time": "2023-11-10T08:17:04.376187Z",
     "start_time": "2023-11-10T08:17:02.505153Z"
    }
   },
   "id": "80b938cfa95023ab"
  },
  {
   "cell_type": "code",
   "execution_count": 2,
   "outputs": [
    {
     "name": "stdout",
     "output_type": "stream",
     "text": [
      "Tensor Shape: torch.Size([2, 3, 4])\n"
     ]
    }
   ],
   "source": [
    "import torch\n",
    "\n",
    "# 创建一个示例 Tensor\n",
    "tensor = torch.randn(2, 3, 4)\n",
    "\n",
    "# 打印 Tensor 形状\n",
    "print(\"Tensor Shape:\", tensor.size())\n"
   ],
   "metadata": {
    "collapsed": false,
    "ExecuteTime": {
     "end_time": "2023-11-10T08:17:13.777210Z",
     "start_time": "2023-11-10T08:17:13.773069Z"
    }
   },
   "id": "60978011a3637c63"
  },
  {
   "cell_type": "code",
   "execution_count": 3,
   "outputs": [
    {
     "name": "stdout",
     "output_type": "stream",
     "text": [
      "Tensor Shape: torch.Size([2, 3, 4])\n"
     ]
    }
   ],
   "source": [
    "import torch\n",
    "\n",
    "# 创建一个示例 Tensor\n",
    "tensor = torch.randn(2, 3, 4)\n",
    "\n",
    "# 打印 Tensor 形状\n",
    "shape = tensor.size()\n",
    "print(\"Tensor Shape:\", shape)\n"
   ],
   "metadata": {
    "collapsed": false,
    "ExecuteTime": {
     "end_time": "2023-11-10T08:17:29.559710Z",
     "start_time": "2023-11-10T08:17:29.551408Z"
    }
   },
   "id": "53aa8304894a9cac"
  },
  {
   "cell_type": "code",
   "execution_count": null,
   "outputs": [],
   "source": [],
   "metadata": {
    "collapsed": false
   },
   "id": "75c0b8b7ec12170c"
  }
 ],
 "metadata": {
  "kernelspec": {
   "display_name": "Python 3",
   "language": "python",
   "name": "python3"
  },
  "language_info": {
   "codemirror_mode": {
    "name": "ipython",
    "version": 2
   },
   "file_extension": ".py",
   "mimetype": "text/x-python",
   "name": "python",
   "nbconvert_exporter": "python",
   "pygments_lexer": "ipython2",
   "version": "2.7.6"
  }
 },
 "nbformat": 4,
 "nbformat_minor": 5
}
