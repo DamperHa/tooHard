{
 "cells": [
  {
   "cell_type": "code",
   "execution_count": 1,
   "id": "initial_id",
   "metadata": {
    "collapsed": true,
    "ExecuteTime": {
     "end_time": "2023-11-09T01:03:53.077859Z",
     "start_time": "2023-11-09T01:03:53.063310Z"
    }
   },
   "outputs": [
    {
     "name": "stdout",
     "output_type": "stream",
     "text": [
      "ok\n"
     ]
    }
   ],
   "source": [
    "print(\"ok\")"
   ]
  },
  {
   "cell_type": "code",
   "execution_count": 2,
   "outputs": [
    {
     "name": "stdout",
     "output_type": "stream",
     "text": [
      "1\n",
      "3\n",
      "5\n"
     ]
    }
   ],
   "source": [
    "class MyCustomClass:  \n",
    "    def __init__(self, data):  \n",
    "        self.data = data  \n",
    "  \n",
    "    def __getitem__(self, index):  \n",
    "        return self.data[index]  \n",
    "  \n",
    "    def __len__(self):  \n",
    "        return len(self.data)  \n",
    "  \n",
    "# 创建一个自定义对象的实例  \n",
    "my_obj = MyCustomClass([1, 2, 3, 4, 5])  \n",
    "# 使用索引访问元素  \n",
    "print(my_obj[0])  # 输出：1  \n",
    "print(my_obj[2])  # 输出：3  \n",
    "  \n",
    "# 获取对象的大小（元素数量）  \n",
    "print(len(my_obj))  # 输出：5"
   ],
   "metadata": {
    "collapsed": false,
    "ExecuteTime": {
     "end_time": "2023-11-09T01:05:22.460085Z",
     "start_time": "2023-11-09T01:05:22.456728Z"
    }
   },
   "id": "90275d93dcf50aaa"
  },
  {
   "cell_type": "code",
   "execution_count": null,
   "outputs": [],
   "source": [],
   "metadata": {
    "collapsed": false
   },
   "id": "b363313ea312203f"
  }
 ],
 "metadata": {
  "kernelspec": {
   "display_name": "Python 3",
   "language": "python",
   "name": "python3"
  },
  "language_info": {
   "codemirror_mode": {
    "name": "ipython",
    "version": 2
   },
   "file_extension": ".py",
   "mimetype": "text/x-python",
   "name": "python",
   "nbconvert_exporter": "python",
   "pygments_lexer": "ipython2",
   "version": "2.7.6"
  }
 },
 "nbformat": 4,
 "nbformat_minor": 5
}
