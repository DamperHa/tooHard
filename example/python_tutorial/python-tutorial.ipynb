{
 "cells": [
  {
   "cell_type": "code",
   "execution_count": null,
   "id": "initial_id",
   "metadata": {
    "collapsed": true,
    "is_executing": true
   },
   "outputs": [],
   "source": [
    "print(\"ok\")"
   ]
  },
  {
   "cell_type": "code",
   "execution_count": 2,
   "outputs": [
    {
     "name": "stdout",
     "output_type": "stream",
     "text": [
      "1\n",
      "3\n",
      "5\n"
     ]
    }
   ],
   "source": [
    "class MyCustomClass:  \n",
    "    def __init__(self, data):  \n",
    "        self.data = data  \n",
    "  \n",
    "    def __getitem__(self, index):  \n",
    "        return self.data[index]  \n",
    "  \n",
    "    def __len__(self):  \n",
    "        return len(self.data)  \n",
    "  \n",
    "# 创建一个自定义对象的实例  \n",
    "my_obj = MyCustomClass([1, 2, 3, 4, 5])  \n",
    "# 使用索引访问元素  \n",
    "print(my_obj[0])  # 输出：1  \n",
    "print(my_obj[2])  # 输出：3  \n",
    "  \n",
    "# 获取对象的大小（元素数量）  \n",
    "print(len(my_obj))  # 输出：5"
   ],
   "metadata": {
    "collapsed": false,
    "ExecuteTime": {
     "end_time": "2023-11-09T01:05:22.460085Z",
     "start_time": "2023-11-09T01:05:22.456728Z"
    }
   },
   "id": "90275d93dcf50aaa"
  },
  {
   "cell_type": "code",
   "execution_count": 2,
   "outputs": [
    {
     "name": "stdout",
     "output_type": "stream",
     "text": [
      "Animal Buddy is born.\n",
      "Dog Buddy of breed Golden Retriever is born.\n",
      "Dog barks.\n"
     ]
    }
   ],
   "source": [
    "class Animal:\n",
    "    def __init__(self, name):\n",
    "        self.name = name\n",
    "        print(f\"Animal {self.name} is born.\")\n",
    "\n",
    "    def speak(self):\n",
    "        print(\"Animal speaks.\")\n",
    "\n",
    "# 子类的__init__函数会覆盖父类的__init__函数\n",
    "# 因此，如果我们想在子类执行父类__init__函数，需要显示执行\n",
    "# 类的实例化，会执行该函数\n",
    "class Dog(Animal):\n",
    "    def __init__(self, name, breed):\n",
    "        # 调用父类的 __init__ 函数\n",
    "        super().__init__(name)\n",
    "        self.breed = breed\n",
    "        print(f\"Dog {self.name} of breed {self.breed} is born.\")\n",
    "\n",
    "    # 可以覆盖父类的方法\n",
    "    def speak(self):\n",
    "        print(\"Dog barks.\")\n",
    "\n",
    "# 创建子类的实例\n",
    "my_dog = Dog(name=\"Buddy\", breed=\"Golden Retriever\")\n",
    "\n",
    "# 调用父类和子类的方法\n",
    "my_dog.speak()\n",
    "\n",
    "# 在pyton中，注意文件的命名，如果文件名和内置类型一致，会出现问题；\n"
   ],
   "metadata": {
    "collapsed": false,
    "ExecuteTime": {
     "end_time": "2023-11-10T08:35:50.801709Z",
     "start_time": "2023-11-10T08:35:50.797381Z"
    }
   },
   "id": "b363313ea312203f"
  },
  {
   "cell_type": "code",
   "execution_count": 5,
   "outputs": [
    {
     "name": "stdout",
     "output_type": "stream",
     "text": [
      "are you ok\n",
      "Parent's method\n",
      "Child's method\n"
     ]
    }
   ],
   "source": [
    "# 1. 子类的实例化能够，调用父类的方法；\n",
    "# 2. 子类的同名方法能够wrapper父类方法；\n",
    "\n",
    "class Parent:\n",
    "    def some_method(self):\n",
    "        print(\"Parent's method\")\n",
    "    \n",
    "    def printok(self):\n",
    "        print(\"are you ok\")\n",
    "        \n",
    "class Child(Parent):\n",
    "    def some_method(self):\n",
    "        # 调用父类的方法\n",
    "        super().some_method()\n",
    "        print(\"Child's method\")\n",
    "\n",
    "# 创建子类实例\n",
    "child_instance = Child()\n",
    "child_instance.printok()\n",
    "\n",
    "# 调用子类方法，该方法中调用了父类方法\n",
    "child_instance.some_method()\n"
   ],
   "metadata": {
    "collapsed": false,
    "ExecuteTime": {
     "end_time": "2023-11-10T08:39:46.162103Z",
     "start_time": "2023-11-10T08:39:46.154605Z"
    }
   },
   "id": "3c40ef89238f0370"
  },
  {
   "cell_type": "code",
   "execution_count": 7,
   "outputs": [
    {
     "name": "stdout",
     "output_type": "stream",
     "text": [
      "7\n",
      "7\n"
     ]
    }
   ],
   "source": [
    "# 类型提示：看python的代码好累，不知道是什么类型\n",
    "# 在python3提供了对类型的支持\n",
    "def add_numbers(a, b):\n",
    "    return a + b\n",
    "\n",
    "result = add_numbers(3, 4)\n",
    "print(result)  # 输出：7\n",
    "\n",
    "def add_numbers_typed(a: int, b: int) -> int:\n",
    "    return a + b\n",
    "\n",
    "result = add_numbers_typed(3, 4)\n",
    "print(result)  # 输出：7\n"
   ],
   "metadata": {
    "collapsed": false,
    "ExecuteTime": {
     "end_time": "2023-11-10T08:53:51.466587Z",
     "start_time": "2023-11-10T08:53:51.455969Z"
    }
   },
   "id": "12d25165430b8066"
  },
  {
   "cell_type": "code",
   "execution_count": 8,
   "outputs": [
    {
     "name": "stdout",
     "output_type": "stream",
     "text": [
      "5.0\n",
      "None\n"
     ]
    }
   ],
   "source": [
    "# Option算是一种表示吧，告诉调用，这个接口的返回的值可能是给定类型，或者None\n",
    "from typing import Optional\n",
    "\n",
    "def divide_numbers(a: int, b: int) -> Optional[float]:\n",
    "    if b == 0:\n",
    "        return None\n",
    "    else:\n",
    "        return a / b\n",
    "\n",
    "result1 = divide_numbers(10, 2)\n",
    "print(result1)  # 输出：5.0\n",
    "\n",
    "result2 = divide_numbers(10, 0)\n",
    "print(result2)  # 输出：None\n"
   ],
   "metadata": {
    "collapsed": false,
    "ExecuteTime": {
     "end_time": "2023-11-10T08:54:24.195800Z",
     "start_time": "2023-11-10T08:54:24.187242Z"
    }
   },
   "id": "6b331f0cb8168c63"
  },
  {
   "cell_type": "code",
   "execution_count": 11,
   "outputs": [
    {
     "name": "stdout",
     "output_type": "stream",
     "text": [
      "2\n",
      "None\n"
     ]
    }
   ],
   "source": [
    "# 奇奇怪怪的类型：[int]表示一个列表\n",
    "from typing import Optional\n",
    "\n",
    "def find_element(my_list: [int], target: int) -> Optional[int]:\n",
    "    for index, element in enumerate(my_list):\n",
    "        if element == target:\n",
    "            return index\n",
    "    return None\n",
    "\n",
    "numbers = [10, 20, 30, 40, 50]\n",
    "\n",
    "result1 = find_element(numbers, 30)\n",
    "print(result1)  # 输出：2\n",
    "\n",
    "result2 = find_element(numbers, 100)\n",
    "print(result2)  # 输出：None\n"
   ],
   "metadata": {
    "collapsed": false,
    "ExecuteTime": {
     "end_time": "2023-11-10T08:55:21.584888Z",
     "start_time": "2023-11-10T08:55:21.575553Z"
    }
   },
   "id": "db26e30fc33e0f95"
  },
  {
   "cell_type": "code",
   "execution_count": 14,
   "outputs": [
    {
     "name": "stdout",
     "output_type": "stream",
     "text": [
      "{'child1': '2', 'child2': 2}\n"
     ]
    }
   ],
   "source": [
    "# 奇奇怪怪的注释：\n",
    "# self._children: Dict[str, 'Registry'] = dict()\n",
    "# 这里的也是为了可读性，:Dict[str, 'Registry'] 表示children这个属性是dict，并且key为string，value为Registry\n",
    "# 但是这里仅仅只是注释，没有其他作用\n",
    "from typing import Dict\n",
    "\n",
    "\n",
    "class MyClass:\n",
    "    def __init__(self):\n",
    "        self._children: Dict[str, 'Registry'] = dict()\n",
    "\n",
    "    def add_child(self, name: str, child: 'Registry'):\n",
    "        self._children[name] = child\n",
    "\n",
    "# 创建一个类的实例\n",
    "my_instance = MyClass()\n",
    "\n",
    "# 添加子元素\n",
    "my_instance.add_child('child1', \"2\")\n",
    "my_instance.add_child('child2', 2)\n",
    "\n",
    "# 访问子元素\n",
    "print(my_instance._children)\n"
   ],
   "metadata": {
    "collapsed": false,
    "ExecuteTime": {
     "end_time": "2023-11-10T09:00:51.367183Z",
     "start_time": "2023-11-10T09:00:51.356324Z"
    }
   },
   "id": "3937c4d8083cdbed"
  },
  {
   "cell_type": "code",
   "execution_count": 17,
   "outputs": [
    {
     "data": {
      "text/plain": "4"
     },
     "execution_count": 17,
     "metadata": {},
     "output_type": "execute_result"
    }
   ],
   "source": [
    "# 自定义类型与内置函数之间的桥梁；\n",
    "# 如果自定义类型想使用内置类型，那么就需要实现以下方法；\n",
    "# __init__(self, ...):\n",
    "# \n",
    "# 目的： 初始化对象的构造函数。允许你在创建对象时进行必要的设置和初始化。\n",
    "# __str__(self):\n",
    "# \n",
    "# 目的： 定义 str(obj) 的行为，返回对象的字符串表示形式。便于人类阅读。\n",
    "# __repr__(self):\n",
    "# \n",
    "# 目的： 定义 repr(obj) 的行为，返回对象的字符串表示形式。通常用于开发和调试。\n",
    "# __len__(self):\n",
    "# \n",
    "# 目的： 定义 len(obj) 的行为，返回对象的长度。\n",
    "# __eq__(self, other):\n",
    "# \n",
    "# 目的： 定义相等运算符 == 的行为。\n",
    "# __lt__(self, other):\n",
    "# \n",
    "# 目的： 定义小于运算符 < 的行为。\n",
    "# __getitem__(self, key):\n",
    "# \n",
    "# 目的： 定义通过索引访问元素的行为，例如 obj[key]。\n",
    "# __setitem__(self, key, value):\n",
    "# \n",
    "# 目的： 定义通过索引设置元素的行为，例如 obj[key] = value。\n",
    "# __iter__(self):\n",
    "# \n",
    "# 目的： 定义对象的迭代器，使对象可迭代。\n",
    "# __next__(self):\n",
    "# \n",
    "# 目的： 定义迭代器的下一个元素。\n",
    "# __enter__(self), __exit__(self, exc_type, exc_value, traceback):\n",
    "# \n",
    "# 目的： 定义上下文管理器的进入和退出行为，使对象能够在 with 语句中使用。\n",
    "\n",
    "class MyClass:\n",
    "    def __init__(self, name, age):\n",
    "        self.name = name\n",
    "        self.age = age\n",
    "    \n",
    "    def __repr__(self):\n",
    "        return f\"MyClass(name={self.name}, age={self.age})\"\n",
    "\n",
    "\n",
    "repr(MyClass(\"fanzhihao\", 18))\n",
    "\n",
    "\n",
    "class MyList:\n",
    "    def __init__(self, items):\n",
    "        self.items = items\n",
    "    \n",
    "    def __len__(self):\n",
    "        return len(self.items)\n",
    "\n",
    "len(MyList([1, 2, 3, 4]))"
   ],
   "metadata": {
    "collapsed": false,
    "ExecuteTime": {
     "end_time": "2023-11-10T09:11:37.650549Z",
     "start_time": "2023-11-10T09:11:37.631544Z"
    }
   },
   "id": "26a8efc7cb3c9695"
  },
  {
   "cell_type": "code",
   "execution_count": 3,
   "outputs": [],
   "source": [
    "# 在 Python 中，__all__ 是一个特殊的变量，用于定义模块中应该被导入的公共接口。当你使用 from module import * 语句时，Python 解释器会导入 __all__ 中列出的所有变量、函数和类。如果 __all__ 未定义，from module import * 将导入模块中所有不以下划线 _ 开头的全局名称。"
   ],
   "metadata": {
    "collapsed": false,
    "ExecuteTime": {
     "end_time": "2023-11-10T15:04:31.096425Z",
     "start_time": "2023-11-10T15:04:31.094849Z"
    }
   },
   "id": "c95a8cc8602dd1de"
  },
  {
   "cell_type": "code",
   "execution_count": 4,
   "outputs": [],
   "source": [
    "# 所以__all__ 是一个控制可见性的操作了"
   ],
   "metadata": {
    "collapsed": false,
    "ExecuteTime": {
     "end_time": "2023-11-10T15:04:53.644880Z",
     "start_time": "2023-11-10T15:04:53.613764Z"
    }
   },
   "id": "f1e9b141cc667e82"
  },
  {
   "cell_type": "code",
   "execution_count": 6,
   "outputs": [
    {
     "name": "stdout",
     "output_type": "stream",
     "text": [
      "you are ok\n",
      "Circle Area: 78.5\n",
      "Circle Perimeter: 31.400000000000002\n"
     ]
    }
   ],
   "source": [
    "# 抽象类，是python中不能示例话的类，定义了一组接口，类似于golang中的interface\n",
    "# @abstractmethod : 装饰器写法，表示子类必须要实现该接口\n",
    "from abc import ABC, abstractmethod\n",
    "\n",
    "class Shape(ABC):\n",
    "    @abstractmethod\n",
    "    def area(self):\n",
    "        pass\n",
    "\n",
    "    @abstractmethod\n",
    "    def perimeter(self):\n",
    "        pass\n",
    "    \n",
    "    def pint(self):\n",
    "        print(\"you are ok\")\n",
    "\n",
    "class Circle(Shape):\n",
    "    def __init__(self, radius):\n",
    "        self.radius = radius\n",
    "\n",
    "    def area(self):\n",
    "        return 3.14 * self.radius * self.radius\n",
    "\n",
    "    def perimeter(self):\n",
    "        return 2 * 3.14 * self.radius\n",
    "\n",
    "# 试图实例化包含抽象方法的类会引发TypeError\n",
    "# shape = Shape()  # TypeError: Can't instantiate abstract class Shape with abstract methods area, perimeter\n",
    "\n",
    "circle = Circle(radius=5)\n",
    "\n",
    "# 抽象类中也能定义函数，并且子类能够集成\n",
    "circle.pint()\n",
    "print(\"Circle Area:\", circle.area())\n",
    "print(\"Circle Perimeter:\", circle.perimeter())\n"
   ],
   "metadata": {
    "collapsed": false,
    "ExecuteTime": {
     "end_time": "2023-11-10T15:13:39.691056Z",
     "start_time": "2023-11-10T15:13:39.681683Z"
    }
   },
   "id": "63cc601bbf5fd2d5"
  },
  {
   "cell_type": "code",
   "execution_count": 7,
   "outputs": [],
   "source": [
    "# pytorch中DataSet就是一个抽象类\n",
    "# 派生类，需要实现三个方法，一个__init__，初始化自己属性变量\n",
    "# __len__：展示数据长度；\n",
    "## __getitem__： 给定一个索引，返回一个样本\n",
    "# pytorch中的dataloader需要的dataset就长这样，所以，我们需要实现这样的 一个类；\n",
    "import torch\n",
    "from torch.utils.data import Dataset\n",
    "\n",
    "class MyDataset(Dataset):\n",
    "    def __init__(self, data, labels, transform=None):\n",
    "        self.data = data\n",
    "        self.labels = labels\n",
    "        self.transform = transform\n",
    "\n",
    "    def __len__(self):\n",
    "        return len(self.data)\n",
    "\n",
    "    def __getitem__(self, index):\n",
    "        sample = {'data': self.data[index], 'label': self.labels[index]}\n",
    "\n",
    "        if self.transform:\n",
    "            sample = self.transform(sample)\n",
    "\n",
    "        return sample\n"
   ],
   "metadata": {
    "collapsed": false,
    "ExecuteTime": {
     "end_time": "2023-11-10T15:14:17.527810Z",
     "start_time": "2023-11-10T15:14:09.912537Z"
    }
   },
   "id": "304b138f73079bed"
  },
  {
   "cell_type": "code",
   "execution_count": 9,
   "outputs": [],
   "source": [
    "from torch.utils.data import Dataset\n",
    "from torchvision import transforms\n",
    "\n",
    "# __getitem__： 返回的通常是一个dict，里面包含图片与label；\n",
    "# transfrom: 就是给定一个sample(dict)，函数处理后，在返回一个sample\n",
    "class MyDataset(Dataset):\n",
    "    def __init__(self, data, labels, transform=None):\n",
    "        self.data = data\n",
    "        self.labels = labels\n",
    "        self.transform = transform\n",
    "\n",
    "    def __len__(self):\n",
    "        return len(self.data)\n",
    "\n",
    "    def __getitem__(self, index):\n",
    "        sample = {'data': self.data[index], 'label': self.labels[index]}\n",
    "\n",
    "        if self.transform:\n",
    "            sample = self.transform(sample)\n",
    "\n",
    "        return sample\n",
    "\n",
    "# 定义一个简单的转换函数\n",
    "def my_transform(sample):\n",
    "    data, label = sample['data'], sample['label']\n",
    "    # 进行一些转换操作，这里仅作示例\n",
    "    data = data * 2\n",
    "    return {'data': data, 'label': label}\n",
    "\n",
    "# 创建数据集并应用转换\n",
    "dataset = MyDataset(\"data\", \"labels\", transform=my_transform)"
   ],
   "metadata": {
    "collapsed": false,
    "ExecuteTime": {
     "end_time": "2023-11-10T15:19:17.864476Z",
     "start_time": "2023-11-10T15:19:17.854384Z"
    }
   },
   "id": "da6f1a844bff7d4e"
  },
  {
   "cell_type": "code",
   "execution_count": 11,
   "outputs": [],
   "source": [
    "# 当transfrom有多个的时候，应该怎么处理呢，\n",
    "# 使用transform.compose + 实现call函数\n",
    "from torch.utils.data import Dataset\n",
    "from torchvision import transforms\n",
    "\n",
    "class MyDataset(Dataset):\n",
    "    def __init__(self, data, labels, transform=None):\n",
    "        self.data = data\n",
    "        self.labels = labels\n",
    "        self.transform = transform\n",
    "\n",
    "    def __len__(self):\n",
    "        return len(self.data)\n",
    "\n",
    "    def __getitem__(self, index):\n",
    "        sample = {'data': self.data[index], 'label': self.labels[index]}\n",
    "\n",
    "        if self.transform:\n",
    "            sample = self.transform(sample)\n",
    "\n",
    "        return sample\n",
    "\n",
    "# 定义多个转换\n",
    "class ResizeAndNormalize(object):\n",
    "    def __init__(self, size):\n",
    "        self.size = size\n",
    "\n",
    "    def __call__(self, sample):\n",
    "        data, label = sample['data'], sample['label']\n",
    "        # 实现 resize 和 normalize 的操作，这里只是示例\n",
    "        data = data.resize(self.size)\n",
    "        data = data / 255.0\n",
    "        return {'data': data, 'label': label}\n",
    "\n",
    "class ToTensor(object):\n",
    "    def __call__(self, sample):\n",
    "        data, label = sample['data'], sample['label']\n",
    "        # 转换为 PyTorch 的 Tensor 格式\n",
    "        data = transforms.ToTensor()(data)\n",
    "        return {'data': data, 'label': label}\n",
    "\n",
    "# 创建一个包含多个转换的组合\n",
    "composed_transform = transforms.Compose([\n",
    "    ResizeAndNormalize(size=(64, 64)),\n",
    "    ToTensor()\n",
    "])\n",
    "\n",
    "# 创建数据集并应用转换\n",
    "dataset = MyDataset(\"data\", \"labels\", transform=composed_transform)\n"
   ],
   "metadata": {
    "collapsed": false,
    "ExecuteTime": {
     "end_time": "2023-11-10T15:22:19.471894Z",
     "start_time": "2023-11-10T15:22:19.453239Z"
    }
   },
   "id": "762b03e8552994ac"
  },
  {
   "cell_type": "code",
   "execution_count": null,
   "outputs": [],
   "source": [],
   "metadata": {
    "collapsed": false
   },
   "id": "db3155b0d5de624b"
  }
 ],
 "metadata": {
  "kernelspec": {
   "display_name": "Python 3",
   "language": "python",
   "name": "python3"
  },
  "language_info": {
   "codemirror_mode": {
    "name": "ipython",
    "version": 2
   },
   "file_extension": ".py",
   "mimetype": "text/x-python",
   "name": "python",
   "nbconvert_exporter": "python",
   "pygments_lexer": "ipython2",
   "version": "2.7.6"
  }
 },
 "nbformat": 4,
 "nbformat_minor": 5
}
