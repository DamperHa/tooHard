{
 "cells": [
  {
   "cell_type": "code",
   "execution_count": null,
   "id": "initial_id",
   "metadata": {
    "collapsed": true,
    "is_executing": true
   },
   "outputs": [],
   "source": [
    "print(\"ok\")"
   ]
  },
  {
   "cell_type": "code",
   "execution_count": 2,
   "outputs": [
    {
     "name": "stdout",
     "output_type": "stream",
     "text": [
      "1\n",
      "3\n",
      "5\n"
     ]
    }
   ],
   "source": [
    "class MyCustomClass:  \n",
    "    def __init__(self, data):  \n",
    "        self.data = data  \n",
    "  \n",
    "    def __getitem__(self, index):  \n",
    "        return self.data[index]  \n",
    "  \n",
    "    def __len__(self):  \n",
    "        return len(self.data)  \n",
    "  \n",
    "# 创建一个自定义对象的实例  \n",
    "my_obj = MyCustomClass([1, 2, 3, 4, 5])  \n",
    "# 使用索引访问元素  \n",
    "print(my_obj[0])  # 输出：1  \n",
    "print(my_obj[2])  # 输出：3  \n",
    "  \n",
    "# 获取对象的大小（元素数量）  \n",
    "print(len(my_obj))  # 输出：5"
   ],
   "metadata": {
    "collapsed": false,
    "ExecuteTime": {
     "end_time": "2023-11-09T01:05:22.460085Z",
     "start_time": "2023-11-09T01:05:22.456728Z"
    }
   },
   "id": "90275d93dcf50aaa"
  },
  {
   "cell_type": "code",
   "execution_count": 2,
   "outputs": [
    {
     "name": "stdout",
     "output_type": "stream",
     "text": [
      "Animal Buddy is born.\n",
      "Dog Buddy of breed Golden Retriever is born.\n",
      "Dog barks.\n"
     ]
    }
   ],
   "source": [
    "class Animal:\n",
    "    def __init__(self, name):\n",
    "        self.name = name\n",
    "        print(f\"Animal {self.name} is born.\")\n",
    "\n",
    "    def speak(self):\n",
    "        print(\"Animal speaks.\")\n",
    "\n",
    "# 子类的__init__函数会覆盖父类的__init__函数\n",
    "# 因此，如果我们想在子类执行父类__init__函数，需要显示执行\n",
    "# 类的实例化，会执行该函数\n",
    "class Dog(Animal):\n",
    "    def __init__(self, name, breed):\n",
    "        # 调用父类的 __init__ 函数\n",
    "        super().__init__(name)\n",
    "        self.breed = breed\n",
    "        print(f\"Dog {self.name} of breed {self.breed} is born.\")\n",
    "\n",
    "    # 可以覆盖父类的方法\n",
    "    def speak(self):\n",
    "        print(\"Dog barks.\")\n",
    "\n",
    "# 创建子类的实例\n",
    "my_dog = Dog(name=\"Buddy\", breed=\"Golden Retriever\")\n",
    "\n",
    "# 调用父类和子类的方法\n",
    "my_dog.speak()\n",
    "\n",
    "# 在pyton中，注意文件的命名，如果文件名和内置类型一致，会出现问题；\n"
   ],
   "metadata": {
    "collapsed": false,
    "ExecuteTime": {
     "end_time": "2023-11-10T08:35:50.801709Z",
     "start_time": "2023-11-10T08:35:50.797381Z"
    }
   },
   "id": "b363313ea312203f"
  },
  {
   "cell_type": "code",
   "execution_count": 5,
   "outputs": [
    {
     "name": "stdout",
     "output_type": "stream",
     "text": [
      "are you ok\n",
      "Parent's method\n",
      "Child's method\n"
     ]
    }
   ],
   "source": [
    "# 1. 子类的实例化能够，调用父类的方法；\n",
    "# 2. 子类的同名方法能够wrapper父类方法；\n",
    "\n",
    "class Parent:\n",
    "    def some_method(self):\n",
    "        print(\"Parent's method\")\n",
    "    \n",
    "    def printok(self):\n",
    "        print(\"are you ok\")\n",
    "        \n",
    "class Child(Parent):\n",
    "    def some_method(self):\n",
    "        # 调用父类的方法\n",
    "        super().some_method()\n",
    "        print(\"Child's method\")\n",
    "\n",
    "# 创建子类实例\n",
    "child_instance = Child()\n",
    "child_instance.printok()\n",
    "\n",
    "# 调用子类方法，该方法中调用了父类方法\n",
    "child_instance.some_method()\n"
   ],
   "metadata": {
    "collapsed": false,
    "ExecuteTime": {
     "end_time": "2023-11-10T08:39:46.162103Z",
     "start_time": "2023-11-10T08:39:46.154605Z"
    }
   },
   "id": "3c40ef89238f0370"
  },
  {
   "cell_type": "code",
   "execution_count": 7,
   "outputs": [
    {
     "name": "stdout",
     "output_type": "stream",
     "text": [
      "7\n",
      "7\n"
     ]
    }
   ],
   "source": [
    "# 类型提示：看python的代码好累，不知道是什么类型\n",
    "# 在python3提供了对类型的支持\n",
    "def add_numbers(a, b):\n",
    "    return a + b\n",
    "\n",
    "result = add_numbers(3, 4)\n",
    "print(result)  # 输出：7\n",
    "\n",
    "def add_numbers_typed(a: int, b: int) -> int:\n",
    "    return a + b\n",
    "\n",
    "result = add_numbers_typed(3, 4)\n",
    "print(result)  # 输出：7\n"
   ],
   "metadata": {
    "collapsed": false,
    "ExecuteTime": {
     "end_time": "2023-11-10T08:53:51.466587Z",
     "start_time": "2023-11-10T08:53:51.455969Z"
    }
   },
   "id": "12d25165430b8066"
  },
  {
   "cell_type": "code",
   "execution_count": 8,
   "outputs": [
    {
     "name": "stdout",
     "output_type": "stream",
     "text": [
      "5.0\n",
      "None\n"
     ]
    }
   ],
   "source": [
    "# Option算是一种表示吧，告诉调用，这个接口的返回的值可能是给定类型，或者None\n",
    "from typing import Optional\n",
    "\n",
    "def divide_numbers(a: int, b: int) -> Optional[float]:\n",
    "    if b == 0:\n",
    "        return None\n",
    "    else:\n",
    "        return a / b\n",
    "\n",
    "result1 = divide_numbers(10, 2)\n",
    "print(result1)  # 输出：5.0\n",
    "\n",
    "result2 = divide_numbers(10, 0)\n",
    "print(result2)  # 输出：None\n"
   ],
   "metadata": {
    "collapsed": false,
    "ExecuteTime": {
     "end_time": "2023-11-10T08:54:24.195800Z",
     "start_time": "2023-11-10T08:54:24.187242Z"
    }
   },
   "id": "6b331f0cb8168c63"
  },
  {
   "cell_type": "code",
   "execution_count": 11,
   "outputs": [
    {
     "name": "stdout",
     "output_type": "stream",
     "text": [
      "2\n",
      "None\n"
     ]
    }
   ],
   "source": [
    "# 奇奇怪怪的类型：[int]表示一个列表\n",
    "from typing import Optional\n",
    "\n",
    "def find_element(my_list: [int], target: int) -> Optional[int]:\n",
    "    for index, element in enumerate(my_list):\n",
    "        if element == target:\n",
    "            return index\n",
    "    return None\n",
    "\n",
    "numbers = [10, 20, 30, 40, 50]\n",
    "\n",
    "result1 = find_element(numbers, 30)\n",
    "print(result1)  # 输出：2\n",
    "\n",
    "result2 = find_element(numbers, 100)\n",
    "print(result2)  # 输出：None\n"
   ],
   "metadata": {
    "collapsed": false,
    "ExecuteTime": {
     "end_time": "2023-11-10T08:55:21.584888Z",
     "start_time": "2023-11-10T08:55:21.575553Z"
    }
   },
   "id": "db26e30fc33e0f95"
  },
  {
   "cell_type": "code",
   "execution_count": 14,
   "outputs": [
    {
     "name": "stdout",
     "output_type": "stream",
     "text": [
      "{'child1': '2', 'child2': 2}\n"
     ]
    }
   ],
   "source": [
    "# 奇奇怪怪的注释：\n",
    "# self._children: Dict[str, 'Registry'] = dict()\n",
    "# 这里的也是为了可读性，:Dict[str, 'Registry'] 表示children这个属性是dict，并且key为string，value为Registry\n",
    "# 但是这里仅仅只是注释，没有其他作用\n",
    "from typing import Dict\n",
    "\n",
    "\n",
    "class MyClass:\n",
    "    def __init__(self):\n",
    "        self._children: Dict[str, 'Registry'] = dict()\n",
    "\n",
    "    def add_child(self, name: str, child: 'Registry'):\n",
    "        self._children[name] = child\n",
    "\n",
    "# 创建一个类的实例\n",
    "my_instance = MyClass()\n",
    "\n",
    "# 添加子元素\n",
    "my_instance.add_child('child1', \"2\")\n",
    "my_instance.add_child('child2', 2)\n",
    "\n",
    "# 访问子元素\n",
    "print(my_instance._children)\n"
   ],
   "metadata": {
    "collapsed": false,
    "ExecuteTime": {
     "end_time": "2023-11-10T09:00:51.367183Z",
     "start_time": "2023-11-10T09:00:51.356324Z"
    }
   },
   "id": "3937c4d8083cdbed"
  },
  {
   "cell_type": "code",
   "execution_count": 17,
   "outputs": [
    {
     "data": {
      "text/plain": "4"
     },
     "execution_count": 17,
     "metadata": {},
     "output_type": "execute_result"
    }
   ],
   "source": [
    "# 自定义类型与内置函数之间的桥梁；\n",
    "# 如果自定义类型想使用内置类型，那么就需要实现以下方法；\n",
    "# __init__(self, ...):\n",
    "# \n",
    "# 目的： 初始化对象的构造函数。允许你在创建对象时进行必要的设置和初始化。\n",
    "# __str__(self):\n",
    "# \n",
    "# 目的： 定义 str(obj) 的行为，返回对象的字符串表示形式。便于人类阅读。\n",
    "# __repr__(self):\n",
    "# \n",
    "# 目的： 定义 repr(obj) 的行为，返回对象的字符串表示形式。通常用于开发和调试。\n",
    "# __len__(self):\n",
    "# \n",
    "# 目的： 定义 len(obj) 的行为，返回对象的长度。\n",
    "# __eq__(self, other):\n",
    "# \n",
    "# 目的： 定义相等运算符 == 的行为。\n",
    "# __lt__(self, other):\n",
    "# \n",
    "# 目的： 定义小于运算符 < 的行为。\n",
    "# __getitem__(self, key):\n",
    "# \n",
    "# 目的： 定义通过索引访问元素的行为，例如 obj[key]。\n",
    "# __setitem__(self, key, value):\n",
    "# \n",
    "# 目的： 定义通过索引设置元素的行为，例如 obj[key] = value。\n",
    "# __iter__(self):\n",
    "# \n",
    "# 目的： 定义对象的迭代器，使对象可迭代。\n",
    "# __next__(self):\n",
    "# \n",
    "# 目的： 定义迭代器的下一个元素。\n",
    "# __enter__(self), __exit__(self, exc_type, exc_value, traceback):\n",
    "# \n",
    "# 目的： 定义上下文管理器的进入和退出行为，使对象能够在 with 语句中使用。\n",
    "\n",
    "class MyClass:\n",
    "    def __init__(self, name, age):\n",
    "        self.name = name\n",
    "        self.age = age\n",
    "    \n",
    "    def __repr__(self):\n",
    "        return f\"MyClass(name={self.name}, age={self.age})\"\n",
    "\n",
    "\n",
    "repr(MyClass(\"fanzhihao\", 18))\n",
    "\n",
    "\n",
    "class MyList:\n",
    "    def __init__(self, items):\n",
    "        self.items = items\n",
    "    \n",
    "    def __len__(self):\n",
    "        return len(self.items)\n",
    "\n",
    "len(MyList([1, 2, 3, 4]))"
   ],
   "metadata": {
    "collapsed": false,
    "ExecuteTime": {
     "end_time": "2023-11-10T09:11:37.650549Z",
     "start_time": "2023-11-10T09:11:37.631544Z"
    }
   },
   "id": "26a8efc7cb3c9695"
  },
  {
   "cell_type": "code",
   "execution_count": 16,
   "outputs": [],
   "source": [],
   "metadata": {
    "collapsed": false,
    "ExecuteTime": {
     "end_time": "2023-11-10T09:11:08.122387Z",
     "start_time": "2023-11-10T09:11:08.104211Z"
    }
   },
   "id": "c95a8cc8602dd1de"
  },
  {
   "cell_type": "code",
   "execution_count": null,
   "outputs": [],
   "source": [],
   "metadata": {
    "collapsed": false
   },
   "id": "f1e9b141cc667e82"
  }
 ],
 "metadata": {
  "kernelspec": {
   "display_name": "Python 3",
   "language": "python",
   "name": "python3"
  },
  "language_info": {
   "codemirror_mode": {
    "name": "ipython",
    "version": 2
   },
   "file_extension": ".py",
   "mimetype": "text/x-python",
   "name": "python",
   "nbconvert_exporter": "python",
   "pygments_lexer": "ipython2",
   "version": "2.7.6"
  }
 },
 "nbformat": 4,
 "nbformat_minor": 5
}
